{
 "cells": [
  {
   "cell_type": "code",
   "execution_count": 59,
   "metadata": {},
   "outputs": [
    {
     "data": {
      "text/html": [
       "<div>\n",
       "<style scoped>\n",
       "    .dataframe tbody tr th:only-of-type {\n",
       "        vertical-align: middle;\n",
       "    }\n",
       "\n",
       "    .dataframe tbody tr th {\n",
       "        vertical-align: top;\n",
       "    }\n",
       "\n",
       "    .dataframe thead th {\n",
       "        text-align: right;\n",
       "    }\n",
       "</style>\n",
       "<table border=\"1\" class=\"dataframe\">\n",
       "  <thead>\n",
       "    <tr style=\"text-align: right;\">\n",
       "      <th></th>\n",
       "      <th>id</th>\n",
       "      <th>text</th>\n",
       "      <th>isRetweet</th>\n",
       "      <th>isDeleted</th>\n",
       "      <th>device</th>\n",
       "      <th>favorites</th>\n",
       "      <th>retweets</th>\n",
       "      <th>date</th>\n",
       "      <th>isFlagged</th>\n",
       "    </tr>\n",
       "  </thead>\n",
       "  <tbody>\n",
       "    <tr>\n",
       "      <th>0</th>\n",
       "      <td>1698308935</td>\n",
       "      <td>Be sure to tune in and watch Donald Trump on L...</td>\n",
       "      <td>f</td>\n",
       "      <td>f</td>\n",
       "      <td>Twitter Web Client</td>\n",
       "      <td>939</td>\n",
       "      <td>519</td>\n",
       "      <td>2009-05-04 18:54:25</td>\n",
       "      <td>f</td>\n",
       "    </tr>\n",
       "    <tr>\n",
       "      <th>1</th>\n",
       "      <td>1701461182</td>\n",
       "      <td>Donald Trump will be appearing on The View tom...</td>\n",
       "      <td>f</td>\n",
       "      <td>f</td>\n",
       "      <td>Twitter Web Client</td>\n",
       "      <td>259</td>\n",
       "      <td>34</td>\n",
       "      <td>2009-05-05 01:00:10</td>\n",
       "      <td>f</td>\n",
       "    </tr>\n",
       "    <tr>\n",
       "      <th>2</th>\n",
       "      <td>1737479987</td>\n",
       "      <td>Donald Trump reads Top Ten Financial Tips on L...</td>\n",
       "      <td>f</td>\n",
       "      <td>f</td>\n",
       "      <td>Twitter Web Client</td>\n",
       "      <td>37</td>\n",
       "      <td>15</td>\n",
       "      <td>2009-05-08 13:38:08</td>\n",
       "      <td>f</td>\n",
       "    </tr>\n",
       "    <tr>\n",
       "      <th>3</th>\n",
       "      <td>1741160716</td>\n",
       "      <td>New Blog Post: Celebrity Apprentice Finale and...</td>\n",
       "      <td>f</td>\n",
       "      <td>f</td>\n",
       "      <td>Twitter Web Client</td>\n",
       "      <td>29</td>\n",
       "      <td>11</td>\n",
       "      <td>2009-05-08 20:40:15</td>\n",
       "      <td>f</td>\n",
       "    </tr>\n",
       "    <tr>\n",
       "      <th>4</th>\n",
       "      <td>1773561338</td>\n",
       "      <td>\"\"My persona will never be that of a wallflowe...</td>\n",
       "      <td>f</td>\n",
       "      <td>f</td>\n",
       "      <td>Twitter Web Client</td>\n",
       "      <td>1877</td>\n",
       "      <td>1321</td>\n",
       "      <td>2009-05-12 14:07:28</td>\n",
       "      <td>f</td>\n",
       "    </tr>\n",
       "  </tbody>\n",
       "</table>\n",
       "</div>"
      ],
      "text/plain": [
       "           id                                               text isRetweet  \\\n",
       "0  1698308935  Be sure to tune in and watch Donald Trump on L...         f   \n",
       "1  1701461182  Donald Trump will be appearing on The View tom...         f   \n",
       "2  1737479987  Donald Trump reads Top Ten Financial Tips on L...         f   \n",
       "3  1741160716  New Blog Post: Celebrity Apprentice Finale and...         f   \n",
       "4  1773561338  \"\"My persona will never be that of a wallflowe...         f   \n",
       "\n",
       "  isDeleted              device  favorites  retweets                date  \\\n",
       "0         f  Twitter Web Client        939       519 2009-05-04 18:54:25   \n",
       "1         f  Twitter Web Client        259        34 2009-05-05 01:00:10   \n",
       "2         f  Twitter Web Client         37        15 2009-05-08 13:38:08   \n",
       "3         f  Twitter Web Client         29        11 2009-05-08 20:40:15   \n",
       "4         f  Twitter Web Client       1877      1321 2009-05-12 14:07:28   \n",
       "\n",
       "  isFlagged  \n",
       "0         f  \n",
       "1         f  \n",
       "2         f  \n",
       "3         f  \n",
       "4         f  "
      ]
     },
     "execution_count": 59,
     "metadata": {},
     "output_type": "execute_result"
    }
   ],
   "source": [
    "import pandas as pd\n",
    "import pandas_profiling\n",
    "import json\n",
    "import numpy\n",
    "from pprint import pprint as p\n",
    "\n",
    "fn = \"tweets_01-08-2021.json\"\n",
    "\n",
    "with open(fn, encoding='utf-8') as f:\n",
    "    df = pd.read_json(f)\n",
    "    \n",
    "df = df.sort_values(by=['date']).reset_index(drop=True)\n",
    "\n",
    "df.head()"
   ]
  },
  {
   "cell_type": "code",
   "execution_count": 60,
   "metadata": {},
   "outputs": [],
   "source": [
    "# Initialize new columns to false\n",
    "features = [\n",
    "    'isFalse',\n",
    "    'isLie', \n",
    "    'isOpposite', \n",
    "    'isPreemptive', \n",
    "    'isElection', \n",
    "    'isIKnowYouAreButWhatAmI', \n",
    "    'isRacist', \n",
    "    'isHitler', \n",
    "    'isDomestic',\n",
    "    'isPresident',\n",
    "    'isFabrication',\n",
    "    'isRussia',\n",
    "    'isUkraine',\n",
    "    'isNuke',\n",
    "    'isDeathStar',\n",
    "    'isExecutivePrivilege',\n",
    "    'isBusiness',\n",
    "    'isPersonal',\n",
    "    'isSmear',\n",
    "    'isSexist',\n",
    "    'isCelebrity',\n",
    "    'isPentagon',\n",
    "    'isNickname',\n",
    "    'isXenophobic',\n",
    "    'isMaga'\n",
    "]\n",
    "\n",
    "df[features] = 'f'"
   ]
  },
  {
   "cell_type": "code",
   "execution_count": 66,
   "metadata": {},
   "outputs": [
    {
     "name": "stdout",
     "output_type": "stream",
     "text": [
      "3\n"
     ]
    }
   ],
   "source": [
    "# Load extra features from more_features.json\n",
    "\n",
    "with open('more_features.json') as f:\n",
    "    feature_dict = json.load(f)\n",
    "                                  \n",
    "for k, v in feature_dict.items():\n",
    "    idx = df.loc[df['id'] == int(k)].index[0]\n",
    "    for feature in v:\n",
    "        df.loc[idx, feature] = 't'\n",
    "\n",
    "# Number of tweets with isLie = 't'\n",
    "print(df['isLie'].str.contains('t').sum())"
   ]
  },
  {
   "cell_type": "code",
   "execution_count": 65,
   "metadata": {},
   "outputs": [
    {
     "name": "stdout",
     "output_type": "stream",
     "text": [
      "3\n"
     ]
    }
   ],
   "source": []
  },
  {
   "cell_type": "code",
   "execution_count": 63,
   "metadata": {},
   "outputs": [
    {
     "data": {
      "text/plain": [
       "52671"
      ]
     },
     "execution_count": 63,
     "metadata": {},
     "output_type": "execute_result"
    }
   ],
   "source": []
  }
 ],
 "metadata": {
  "kernelspec": {
   "display_name": "Python 3",
   "language": "python",
   "name": "python3"
  },
  "language_info": {
   "codemirror_mode": {
    "name": "ipython",
    "version": 3
   },
   "file_extension": ".py",
   "mimetype": "text/x-python",
   "name": "python",
   "nbconvert_exporter": "python",
   "pygments_lexer": "ipython3",
   "version": "3.8.5"
  }
 },
 "nbformat": 4,
 "nbformat_minor": 4
}
